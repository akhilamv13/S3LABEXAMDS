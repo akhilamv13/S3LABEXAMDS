{
  "nbformat": 4,
  "nbformat_minor": 0,
  "metadata": {
    "colab": {
      "provenance": []
    },
    "kernelspec": {
      "name": "python3",
      "display_name": "Python 3"
    },
    "language_info": {
      "name": "python"
    }
  },
  "cells": [
    {
      "cell_type": "markdown",
      "source": [
        "**A) PYTHON PROGRAM TO CREATE TWO MATRICES**"
      ],
      "metadata": {
        "id": "8rmF_aE6F92b"
      }
    },
    {
      "cell_type": "code",
      "source": [
        "import numpy as np"
      ],
      "metadata": {
        "id": "j_DNZxxGGELS"
      },
      "execution_count": 303,
      "outputs": []
    },
    {
      "cell_type": "markdown",
      "source": [
        "TWO ARRAYS"
      ],
      "metadata": {
        "id": "raJJP41rWAsz"
      }
    },
    {
      "cell_type": "code",
      "source": [
        "1row = int(input(\"Enter the number of rows:\"))\n",
        "column = int(input(\"Enter the number of columns:\"))\n",
        "mat1 = []\n",
        "print(\"Enter the values:\")\n",
        "for i in range(row):         \n",
        "    arr1 =[]\n",
        "    for j in range(column):      \n",
        "         arr1.append(int(input()))\n",
        "    mat1.append(arr1)\n",
        "  \n",
        "\n",
        "for i in range(row):\n",
        "    for j in range(column):\n",
        "        print(mat1[i][j], end = \" \")\n",
        "    print()\n"
      ],
      "metadata": {
        "colab": {
          "base_uri": "https://localhost:8080/"
        },
        "id": "hrspF0nBSCP4",
        "outputId": "89fb4ec5-517f-4de5-c785-0fe98316e619"
      },
      "execution_count": 376,
      "outputs": [
        {
          "output_type": "stream",
          "name": "stdout",
          "text": [
            "Enter the number of rows:2\n",
            "Enter the number of columns:2\n",
            "Enter the values:\n",
            "1\n",
            "2\n",
            "2\n",
            "1\n",
            "1 2 \n",
            "2 1 \n"
          ]
        }
      ]
    },
    {
      "cell_type": "code",
      "source": [
        "row = int(input(\"Enter the number of rows:\"))\n",
        "column = int(input(\"Enter the number of columns:\"))\n",
        "mat2 = []\n",
        "print(\"Enter the values:\")\n",
        "for i in range(row):         \n",
        "    arr1 =[]\n",
        "    for j in range(column):      \n",
        "         arr1.append(int(input()))\n",
        "    mat2.append(arr1)\n",
        "  \n",
        "\n",
        "for i in range(row):\n",
        "    for j in range(column):\n",
        "        print(mat2[i][j], end = \" \")\n",
        "    print()\n"
      ],
      "metadata": {
        "colab": {
          "base_uri": "https://localhost:8080/"
        },
        "id": "Ypqc_8Z3VpHo",
        "outputId": "ac947f15-a4f2-42b6-8dfc-ec65a70c40da"
      },
      "execution_count": 378,
      "outputs": [
        {
          "output_type": "stream",
          "name": "stdout",
          "text": [
            "Enter the number of rows:2\n",
            "Enter the number of columns:2\n",
            "Enter the values:\n",
            "2\n",
            "3\n",
            "4\n",
            "1\n",
            "2 3 \n",
            "4 1 \n"
          ]
        }
      ]
    },
    {
      "cell_type": "markdown",
      "source": [
        "(1) DOT PRODUCT \n",
        "\n",
        "\n"
      ],
      "metadata": {
        "id": "fBh_KrYgOW9Y"
      }
    },
    {
      "cell_type": "code",
      "source": [
        "print(np.dot(mat1, mat2))"
      ],
      "metadata": {
        "colab": {
          "base_uri": "https://localhost:8080/"
        },
        "id": "4Z9KWhSzLwEq",
        "outputId": "d9e51b7e-eac5-432b-e826-b805a71d8b17"
      },
      "execution_count": 379,
      "outputs": [
        {
          "output_type": "stream",
          "name": "stdout",
          "text": [
            "[[10  5]\n",
            " [ 8  7]]\n"
          ]
        }
      ]
    },
    {
      "cell_type": "markdown",
      "source": [
        "(2) TRANSPOSE"
      ],
      "metadata": {
        "id": "PagKx5SyPPWo"
      }
    },
    {
      "cell_type": "code",
      "source": [
        "print(np.transpose(mat1))"
      ],
      "metadata": {
        "colab": {
          "base_uri": "https://localhost:8080/"
        },
        "id": "XTmGaZ6sLv5B",
        "outputId": "805c9b5d-c413-4e56-d3be-9ac89564df34"
      },
      "execution_count": 380,
      "outputs": [
        {
          "output_type": "stream",
          "name": "stdout",
          "text": [
            "[[1 2]\n",
            " [2 1]]\n"
          ]
        }
      ]
    },
    {
      "cell_type": "code",
      "source": [
        "print(np.transpose(mat2))"
      ],
      "metadata": {
        "colab": {
          "base_uri": "https://localhost:8080/"
        },
        "id": "fhOXehZBPijJ",
        "outputId": "bc3a3e8d-8ab7-45be-9952-40e1f32c757f"
      },
      "execution_count": 381,
      "outputs": [
        {
          "output_type": "stream",
          "name": "stdout",
          "text": [
            "[[2 4]\n",
            " [3 1]]\n"
          ]
        }
      ]
    },
    {
      "cell_type": "markdown",
      "source": [
        "(3) TRACE"
      ],
      "metadata": {
        "id": "b4VjPoILPcXw"
      }
    },
    {
      "cell_type": "code",
      "source": [
        "trace=np.trace(mat1)\n",
        "print(trace)"
      ],
      "metadata": {
        "colab": {
          "base_uri": "https://localhost:8080/"
        },
        "id": "WUftixoEPoJJ",
        "outputId": "7535975c-013c-4fdc-caca-5fff6f3bc864"
      },
      "execution_count": 382,
      "outputs": [
        {
          "output_type": "stream",
          "name": "stdout",
          "text": [
            "2\n"
          ]
        }
      ]
    },
    {
      "cell_type": "code",
      "source": [
        "trace=np.trace(mat1)\n",
        "print(trace)"
      ],
      "metadata": {
        "colab": {
          "base_uri": "https://localhost:8080/"
        },
        "id": "ek_utVfCQFaZ",
        "outputId": "24184163-dea0-477b-d878-586271899b60"
      },
      "execution_count": 383,
      "outputs": [
        {
          "output_type": "stream",
          "name": "stdout",
          "text": [
            "2\n"
          ]
        }
      ]
    },
    {
      "cell_type": "markdown",
      "source": [
        "(4) RANK"
      ],
      "metadata": {
        "id": "ZFLZ7J3uQJf5"
      }
    },
    {
      "cell_type": "code",
      "source": [
        "rank = np.linalg.matrix_rank(mat1)\n",
        "print(rank)"
      ],
      "metadata": {
        "colab": {
          "base_uri": "https://localhost:8080/"
        },
        "id": "vtXGaBBsQH2x",
        "outputId": "f9dbf2b1-929e-4f8d-a88a-81172fc40e95"
      },
      "execution_count": 384,
      "outputs": [
        {
          "output_type": "stream",
          "name": "stdout",
          "text": [
            "2\n"
          ]
        }
      ]
    },
    {
      "cell_type": "code",
      "source": [
        "rank = np.linalg.matrix_rank(mat2)\n",
        "print(rank)"
      ],
      "metadata": {
        "colab": {
          "base_uri": "https://localhost:8080/"
        },
        "id": "Iqau5SsLQ2Qw",
        "outputId": "32519c02-83c9-49d4-f739-91e7d7fc288b"
      },
      "execution_count": 385,
      "outputs": [
        {
          "output_type": "stream",
          "name": "stdout",
          "text": [
            "2\n"
          ]
        }
      ]
    },
    {
      "cell_type": "markdown",
      "source": [
        "(5) DETERMINANT"
      ],
      "metadata": {
        "id": "9MabMIn1RCJg"
      }
    },
    {
      "cell_type": "code",
      "source": [
        "determinant= np.linalg.det(mat1)\n",
        "print(determinant)\n",
        "print(int(determinant))"
      ],
      "metadata": {
        "colab": {
          "base_uri": "https://localhost:8080/"
        },
        "id": "qnJYsfbeRFpQ",
        "outputId": "9ff81331-31d1-4279-a8b9-5fc9c8084396"
      },
      "execution_count": 386,
      "outputs": [
        {
          "output_type": "stream",
          "name": "stdout",
          "text": [
            "-2.9999999999999996\n",
            "-2\n"
          ]
        }
      ]
    },
    {
      "cell_type": "code",
      "source": [
        "determinant= np.linalg.det(mat2)\n",
        "print(determinant)\n",
        "print(int(determinant))"
      ],
      "metadata": {
        "colab": {
          "base_uri": "https://localhost:8080/"
        },
        "id": "nOwLUuhTRqMK",
        "outputId": "013b535f-58a8-4bfd-a5af-f587a0595465"
      },
      "execution_count": 387,
      "outputs": [
        {
          "output_type": "stream",
          "name": "stdout",
          "text": [
            "-10.000000000000002\n",
            "-10\n"
          ]
        }
      ]
    },
    {
      "cell_type": "markdown",
      "source": [
        "**B) KNN**"
      ],
      "metadata": {
        "id": "j07IgpoLGSOq"
      }
    },
    {
      "cell_type": "code",
      "source": [
        "import pandas as pd\n",
        "import numpy as np\n",
        "from sklearn.neighbors import KNeighborsClassifier\n",
        "import matplotlib.pyplot as plt"
      ],
      "metadata": {
        "id": "5v_3kIEtGUqC"
      },
      "execution_count": 388,
      "outputs": []
    },
    {
      "cell_type": "markdown",
      "source": [
        "(1) CREATE DATASET"
      ],
      "metadata": {
        "id": "pcUQDsmXKCS9"
      }
    },
    {
      "cell_type": "code",
      "source": [
        "data={'BMI':[33.6,26.6,23.4,43.1,35.3,35.9,36.7,25.7,23.3,31],\n",
        "      'AGE':[50,30,40,67,23,67,45,46,29,56],\n",
        "      'Sugar':[1,0,0,0,1,1,1,0,0,1]}"
      ],
      "metadata": {
        "id": "0jT65L8FGdWq"
      },
      "execution_count": 390,
      "outputs": []
    },
    {
      "cell_type": "code",
      "source": [
        "dataset= pd.DataFrame(data)"
      ],
      "metadata": {
        "id": "gmALHTnEGeQK"
      },
      "execution_count": 391,
      "outputs": []
    },
    {
      "cell_type": "code",
      "source": [
        "dataset"
      ],
      "metadata": {
        "colab": {
          "base_uri": "https://localhost:8080/",
          "height": 363
        },
        "id": "qqp2DCrH6GLm",
        "outputId": "d66889b6-eac5-4a5c-bbe2-82b45ee178f7"
      },
      "execution_count": 392,
      "outputs": [
        {
          "output_type": "execute_result",
          "data": {
            "text/plain": [
              "    BMI  AGE  Sugar\n",
              "0  33.6   50      1\n",
              "1  26.6   30      0\n",
              "2  23.4   40      0\n",
              "3  43.1   67      0\n",
              "4  35.3   23      1\n",
              "5  35.9   67      1\n",
              "6  36.7   45      1\n",
              "7  25.7   46      0\n",
              "8  23.3   29      0\n",
              "9  31.0   56      1"
            ],
            "text/html": [
              "\n",
              "  <div id=\"df-6bab15ea-c0c8-4c85-9819-833c19629386\">\n",
              "    <div class=\"colab-df-container\">\n",
              "      <div>\n",
              "<style scoped>\n",
              "    .dataframe tbody tr th:only-of-type {\n",
              "        vertical-align: middle;\n",
              "    }\n",
              "\n",
              "    .dataframe tbody tr th {\n",
              "        vertical-align: top;\n",
              "    }\n",
              "\n",
              "    .dataframe thead th {\n",
              "        text-align: right;\n",
              "    }\n",
              "</style>\n",
              "<table border=\"1\" class=\"dataframe\">\n",
              "  <thead>\n",
              "    <tr style=\"text-align: right;\">\n",
              "      <th></th>\n",
              "      <th>BMI</th>\n",
              "      <th>AGE</th>\n",
              "      <th>Sugar</th>\n",
              "    </tr>\n",
              "  </thead>\n",
              "  <tbody>\n",
              "    <tr>\n",
              "      <th>0</th>\n",
              "      <td>33.6</td>\n",
              "      <td>50</td>\n",
              "      <td>1</td>\n",
              "    </tr>\n",
              "    <tr>\n",
              "      <th>1</th>\n",
              "      <td>26.6</td>\n",
              "      <td>30</td>\n",
              "      <td>0</td>\n",
              "    </tr>\n",
              "    <tr>\n",
              "      <th>2</th>\n",
              "      <td>23.4</td>\n",
              "      <td>40</td>\n",
              "      <td>0</td>\n",
              "    </tr>\n",
              "    <tr>\n",
              "      <th>3</th>\n",
              "      <td>43.1</td>\n",
              "      <td>67</td>\n",
              "      <td>0</td>\n",
              "    </tr>\n",
              "    <tr>\n",
              "      <th>4</th>\n",
              "      <td>35.3</td>\n",
              "      <td>23</td>\n",
              "      <td>1</td>\n",
              "    </tr>\n",
              "    <tr>\n",
              "      <th>5</th>\n",
              "      <td>35.9</td>\n",
              "      <td>67</td>\n",
              "      <td>1</td>\n",
              "    </tr>\n",
              "    <tr>\n",
              "      <th>6</th>\n",
              "      <td>36.7</td>\n",
              "      <td>45</td>\n",
              "      <td>1</td>\n",
              "    </tr>\n",
              "    <tr>\n",
              "      <th>7</th>\n",
              "      <td>25.7</td>\n",
              "      <td>46</td>\n",
              "      <td>0</td>\n",
              "    </tr>\n",
              "    <tr>\n",
              "      <th>8</th>\n",
              "      <td>23.3</td>\n",
              "      <td>29</td>\n",
              "      <td>0</td>\n",
              "    </tr>\n",
              "    <tr>\n",
              "      <th>9</th>\n",
              "      <td>31.0</td>\n",
              "      <td>56</td>\n",
              "      <td>1</td>\n",
              "    </tr>\n",
              "  </tbody>\n",
              "</table>\n",
              "</div>\n",
              "      <button class=\"colab-df-convert\" onclick=\"convertToInteractive('df-6bab15ea-c0c8-4c85-9819-833c19629386')\"\n",
              "              title=\"Convert this dataframe to an interactive table.\"\n",
              "              style=\"display:none;\">\n",
              "        \n",
              "  <svg xmlns=\"http://www.w3.org/2000/svg\" height=\"24px\"viewBox=\"0 0 24 24\"\n",
              "       width=\"24px\">\n",
              "    <path d=\"M0 0h24v24H0V0z\" fill=\"none\"/>\n",
              "    <path d=\"M18.56 5.44l.94 2.06.94-2.06 2.06-.94-2.06-.94-.94-2.06-.94 2.06-2.06.94zm-11 1L8.5 8.5l.94-2.06 2.06-.94-2.06-.94L8.5 2.5l-.94 2.06-2.06.94zm10 10l.94 2.06.94-2.06 2.06-.94-2.06-.94-.94-2.06-.94 2.06-2.06.94z\"/><path d=\"M17.41 7.96l-1.37-1.37c-.4-.4-.92-.59-1.43-.59-.52 0-1.04.2-1.43.59L10.3 9.45l-7.72 7.72c-.78.78-.78 2.05 0 2.83L4 21.41c.39.39.9.59 1.41.59.51 0 1.02-.2 1.41-.59l7.78-7.78 2.81-2.81c.8-.78.8-2.07 0-2.86zM5.41 20L4 18.59l7.72-7.72 1.47 1.35L5.41 20z\"/>\n",
              "  </svg>\n",
              "      </button>\n",
              "      \n",
              "  <style>\n",
              "    .colab-df-container {\n",
              "      display:flex;\n",
              "      flex-wrap:wrap;\n",
              "      gap: 12px;\n",
              "    }\n",
              "\n",
              "    .colab-df-convert {\n",
              "      background-color: #E8F0FE;\n",
              "      border: none;\n",
              "      border-radius: 50%;\n",
              "      cursor: pointer;\n",
              "      display: none;\n",
              "      fill: #1967D2;\n",
              "      height: 32px;\n",
              "      padding: 0 0 0 0;\n",
              "      width: 32px;\n",
              "    }\n",
              "\n",
              "    .colab-df-convert:hover {\n",
              "      background-color: #E2EBFA;\n",
              "      box-shadow: 0px 1px 2px rgba(60, 64, 67, 0.3), 0px 1px 3px 1px rgba(60, 64, 67, 0.15);\n",
              "      fill: #174EA6;\n",
              "    }\n",
              "\n",
              "    [theme=dark] .colab-df-convert {\n",
              "      background-color: #3B4455;\n",
              "      fill: #D2E3FC;\n",
              "    }\n",
              "\n",
              "    [theme=dark] .colab-df-convert:hover {\n",
              "      background-color: #434B5C;\n",
              "      box-shadow: 0px 1px 3px 1px rgba(0, 0, 0, 0.15);\n",
              "      filter: drop-shadow(0px 1px 2px rgba(0, 0, 0, 0.3));\n",
              "      fill: #FFFFFF;\n",
              "    }\n",
              "  </style>\n",
              "\n",
              "      <script>\n",
              "        const buttonEl =\n",
              "          document.querySelector('#df-6bab15ea-c0c8-4c85-9819-833c19629386 button.colab-df-convert');\n",
              "        buttonEl.style.display =\n",
              "          google.colab.kernel.accessAllowed ? 'block' : 'none';\n",
              "\n",
              "        async function convertToInteractive(key) {\n",
              "          const element = document.querySelector('#df-6bab15ea-c0c8-4c85-9819-833c19629386');\n",
              "          const dataTable =\n",
              "            await google.colab.kernel.invokeFunction('convertToInteractive',\n",
              "                                                     [key], {});\n",
              "          if (!dataTable) return;\n",
              "\n",
              "          const docLinkHtml = 'Like what you see? Visit the ' +\n",
              "            '<a target=\"_blank\" href=https://colab.research.google.com/notebooks/data_table.ipynb>data table notebook</a>'\n",
              "            + ' to learn more about interactive tables.';\n",
              "          element.innerHTML = '';\n",
              "          dataTable['output_type'] = 'display_data';\n",
              "          await google.colab.output.renderOutput(dataTable, element);\n",
              "          const docLink = document.createElement('div');\n",
              "          docLink.innerHTML = docLinkHtml;\n",
              "          element.appendChild(docLink);\n",
              "        }\n",
              "      </script>\n",
              "    </div>\n",
              "  </div>\n",
              "  "
            ]
          },
          "metadata": {},
          "execution_count": 392
        }
      ]
    },
    {
      "cell_type": "markdown",
      "source": [
        "(2) DRAW SCATTER PLOT"
      ],
      "metadata": {
        "id": "umGHuI_3KHOF"
      }
    },
    {
      "cell_type": "code",
      "source": [
        "group = dataset.groupby('Sugar')\n",
        "for name, group in group:\n",
        "    plt.plot(group.BMI, group.AGE, marker='o', linestyle='', markersize=5,label=name)\n",
        "    plt.xlabel(\"BMI\")\n",
        "    plt.ylabel(\"AGE\")\n",
        "plt.legend()"
      ],
      "metadata": {
        "colab": {
          "base_uri": "https://localhost:8080/",
          "height": 296
        },
        "id": "6nzPx88zanZH",
        "outputId": "45ef7575-8249-49bb-d066-0a3bbfe2bb84"
      },
      "execution_count": 393,
      "outputs": [
        {
          "output_type": "execute_result",
          "data": {
            "text/plain": [
              "<matplotlib.legend.Legend at 0x7f10cf5906d0>"
            ]
          },
          "metadata": {},
          "execution_count": 393
        },
        {
          "output_type": "display_data",
          "data": {
            "text/plain": [
              "<Figure size 432x288 with 1 Axes>"
            ],
            "image/png": "[encoded data removed]"
          },
          "metadata": {
            "needs_background": "light"
          }
        }
      ]
    },
    {
      "cell_type": "markdown",
      "source": [
        "(3) IMPLEMENT KNN"
      ],
      "metadata": {
        "id": "Rxc3o6N7KMGF"
      }
    },
    {
      "cell_type": "code",
      "source": [
        "x=dataset.iloc[:,:2]\n",
        "y=dataset.iloc[:,2]"
      ],
      "metadata": {
        "id": "g9l4LxmqEeLT"
      },
      "execution_count": 394,
      "outputs": []
    },
    {
      "cell_type": "code",
      "source": [
        "knn=KNeighborsClassifier(n_neighbors=3,metric='euclidean')"
      ],
      "metadata": {
        "id": "5ZQznL8b7EDU"
      },
      "execution_count": 395,
      "outputs": []
    },
    {
      "cell_type": "code",
      "source": [
        "knn.fit(x,y)"
      ],
      "metadata": {
        "colab": {
          "base_uri": "https://localhost:8080/"
        },
        "id": "Rd8Bpsb-8Ari",
        "outputId": "b1af88c5-57a9-4557-ae2c-4a827550a3cd"
      },
      "execution_count": 396,
      "outputs": [
        {
          "output_type": "execute_result",
          "data": {
            "text/plain": [
              "KNeighborsClassifier(metric='euclidean', n_neighbors=3)"
            ]
          },
          "metadata": {},
          "execution_count": 396
        }
      ]
    },
    {
      "cell_type": "code",
      "source": [
        "y_pred=knn.predict(x)"
      ],
      "metadata": {
        "id": "djWj0Ef88DCS"
      },
      "execution_count": 397,
      "outputs": []
    },
    {
      "cell_type": "code",
      "source": [
        "y_pred"
      ],
      "metadata": {
        "colab": {
          "base_uri": "https://localhost:8080/"
        },
        "id": "0ISZ33lJ-VV0",
        "outputId": "83311ca4-85d2-41c1-dcd7-18658d85ff93"
      },
      "execution_count": 398,
      "outputs": [
        {
          "output_type": "execute_result",
          "data": {
            "text/plain": [
              "array([1, 0, 0, 1, 0, 1, 1, 0, 0, 1])"
            ]
          },
          "metadata": {},
          "execution_count": 398
        }
      ]
    },
    {
      "cell_type": "markdown",
      "source": [
        "(4) CLASSIFICATION OF THE DATA BMI=43.6 AGE=40"
      ],
      "metadata": {
        "id": "0D_Imi39KQ7i"
      }
    },
    {
      "cell_type": "code",
      "source": [
        "z={'BMI':[43.6],\n",
        "      'AGE':[40],\n",
        "      'Sugar':[np.NaN]}"
      ],
      "metadata": {
        "id": "Pd4uSgq_IQsa"
      },
      "execution_count": 399,
      "outputs": []
    },
    {
      "cell_type": "code",
      "source": [
        "test= pd.DataFrame(z)"
      ],
      "metadata": {
        "id": "7o1c0BV1I6Mq"
      },
      "execution_count": 400,
      "outputs": []
    },
    {
      "cell_type": "code",
      "source": [
        "test"
      ],
      "metadata": {
        "colab": {
          "base_uri": "https://localhost:8080/",
          "height": 81
        },
        "id": "GkFLzIwKIVEK",
        "outputId": "f3b09836-980d-46a9-93e0-ed30437076a0"
      },
      "execution_count": 401,
      "outputs": [
        {
          "output_type": "execute_result",
          "data": {
            "text/plain": [
              "    BMI  AGE  Sugar\n",
              "0  43.6   40    NaN"
            ],
            "text/html": [
              "\n",
              "  <div id=\"df-99855751-7b4d-40f2-a9f0-f3d363838cac\">\n",
              "    <div class=\"colab-df-container\">\n",
              "      <div>\n",
              "<style scoped>\n",
              "    .dataframe tbody tr th:only-of-type {\n",
              "        vertical-align: middle;\n",
              "    }\n",
              "\n",
              "    .dataframe tbody tr th {\n",
              "        vertical-align: top;\n",
              "    }\n",
              "\n",
              "    .dataframe thead th {\n",
              "        text-align: right;\n",
              "    }\n",
              "</style>\n",
              "<table border=\"1\" class=\"dataframe\">\n",
              "  <thead>\n",
              "    <tr style=\"text-align: right;\">\n",
              "      <th></th>\n",
              "      <th>BMI</th>\n",
              "      <th>AGE</th>\n",
              "      <th>Sugar</th>\n",
              "    </tr>\n",
              "  </thead>\n",
              "  <tbody>\n",
              "    <tr>\n",
              "      <th>0</th>\n",
              "      <td>43.6</td>\n",
              "      <td>40</td>\n",
              "      <td>NaN</td>\n",
              "    </tr>\n",
              "  </tbody>\n",
              "</table>\n",
              "</div>\n",
              "      <button class=\"colab-df-convert\" onclick=\"convertToInteractive('df-99855751-7b4d-40f2-a9f0-f3d363838cac')\"\n",
              "              title=\"Convert this dataframe to an interactive table.\"\n",
              "              style=\"display:none;\">\n",
              "        \n",
              "  <svg xmlns=\"http://www.w3.org/2000/svg\" height=\"24px\"viewBox=\"0 0 24 24\"\n",
              "       width=\"24px\">\n",
              "    <path d=\"M0 0h24v24H0V0z\" fill=\"none\"/>\n",
              "    <path d=\"M18.56 5.44l.94 2.06.94-2.06 2.06-.94-2.06-.94-.94-2.06-.94 2.06-2.06.94zm-11 1L8.5 8.5l.94-2.06 2.06-.94-2.06-.94L8.5 2.5l-.94 2.06-2.06.94zm10 10l.94 2.06.94-2.06 2.06-.94-2.06-.94-.94-2.06-.94 2.06-2.06.94z\"/><path d=\"M17.41 7.96l-1.37-1.37c-.4-.4-.92-.59-1.43-.59-.52 0-1.04.2-1.43.59L10.3 9.45l-7.72 7.72c-.78.78-.78 2.05 0 2.83L4 21.41c.39.39.9.59 1.41.59.51 0 1.02-.2 1.41-.59l7.78-7.78 2.81-2.81c.8-.78.8-2.07 0-2.86zM5.41 20L4 18.59l7.72-7.72 1.47 1.35L5.41 20z\"/>\n",
              "  </svg>\n",
              "      </button>\n",
              "      \n",
              "  <style>\n",
              "    .colab-df-container {\n",
              "      display:flex;\n",
              "      flex-wrap:wrap;\n",
              "      gap: 12px;\n",
              "    }\n",
              "\n",
              "    .colab-df-convert {\n",
              "      background-color: #E8F0FE;\n",
              "      border: none;\n",
              "      border-radius: 50%;\n",
              "      cursor: pointer;\n",
              "      display: none;\n",
              "      fill: #1967D2;\n",
              "      height: 32px;\n",
              "      padding: 0 0 0 0;\n",
              "      width: 32px;\n",
              "    }\n",
              "\n",
              "    .colab-df-convert:hover {\n",
              "      background-color: #E2EBFA;\n",
              "      box-shadow: 0px 1px 2px rgba(60, 64, 67, 0.3), 0px 1px 3px 1px rgba(60, 64, 67, 0.15);\n",
              "      fill: #174EA6;\n",
              "    }\n",
              "\n",
              "    [theme=dark] .colab-df-convert {\n",
              "      background-color: #3B4455;\n",
              "      fill: #D2E3FC;\n",
              "    }\n",
              "\n",
              "    [theme=dark] .colab-df-convert:hover {\n",
              "      background-color: #434B5C;\n",
              "      box-shadow: 0px 1px 3px 1px rgba(0, 0, 0, 0.15);\n",
              "      filter: drop-shadow(0px 1px 2px rgba(0, 0, 0, 0.3));\n",
              "      fill: #FFFFFF;\n",
              "    }\n",
              "  </style>\n",
              "\n",
              "      <script>\n",
              "        const buttonEl =\n",
              "          document.querySelector('#df-99855751-7b4d-40f2-a9f0-f3d363838cac button.colab-df-convert');\n",
              "        buttonEl.style.display =\n",
              "          google.colab.kernel.accessAllowed ? 'block' : 'none';\n",
              "\n",
              "        async function convertToInteractive(key) {\n",
              "          const element = document.querySelector('#df-99855751-7b4d-40f2-a9f0-f3d363838cac');\n",
              "          const dataTable =\n",
              "            await google.colab.kernel.invokeFunction('convertToInteractive',\n",
              "                                                     [key], {});\n",
              "          if (!dataTable) return;\n",
              "\n",
              "          const docLinkHtml = 'Like what you see? Visit the ' +\n",
              "            '<a target=\"_blank\" href=https://colab.research.google.com/notebooks/data_table.ipynb>data table notebook</a>'\n",
              "            + ' to learn more about interactive tables.';\n",
              "          element.innerHTML = '';\n",
              "          dataTable['output_type'] = 'display_data';\n",
              "          await google.colab.output.renderOutput(dataTable, element);\n",
              "          const docLink = document.createElement('div');\n",
              "          docLink.innerHTML = docLinkHtml;\n",
              "          element.appendChild(docLink);\n",
              "        }\n",
              "      </script>\n",
              "    </div>\n",
              "  </div>\n",
              "  "
            ]
          },
          "metadata": {},
          "execution_count": 401
        }
      ]
    },
    {
      "cell_type": "code",
      "source": [
        "y_test=test.iloc[:,:2]"
      ],
      "metadata": {
        "id": "Et6--MJzJYdq"
      },
      "execution_count": 402,
      "outputs": []
    },
    {
      "cell_type": "code",
      "source": [
        "y_pred1=knn.predict(y_test)"
      ],
      "metadata": {
        "id": "lgFt4CHiH_Hy"
      },
      "execution_count": 403,
      "outputs": []
    },
    {
      "cell_type": "code",
      "source": [
        "y_pred1"
      ],
      "metadata": {
        "colab": {
          "base_uri": "https://localhost:8080/"
        },
        "id": "nY6fisEMINKK",
        "outputId": "0d8e89d1-71d0-4be8-f246-46ea413dcfd5"
      },
      "execution_count": 404,
      "outputs": [
        {
          "output_type": "execute_result",
          "data": {
            "text/plain": [
              "array([1])"
            ]
          },
          "metadata": {},
          "execution_count": 404
        }
      ]
    }
  ]
}